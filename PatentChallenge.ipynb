{
 "cells": [
  {
   "cell_type": "markdown",
   "metadata": {},
   "source": [
    "# Import"
   ]
  },
  {
   "cell_type": "code",
   "execution_count": 61,
   "metadata": {
    "collapsed": true
   },
   "outputs": [],
   "source": [
    "import numpy as np\n",
    "import matplotlib.pyplot as plt\n",
    "import pandas as pd\n",
    "from collections import Counter\n",
    "import xgboost as xgb\n",
    "%matplotlib inline\n",
    "\n",
    "train_fname = 'train.csv'\n",
    "test_fname = 'test.csv'\n",
    "df = pd.read_csv(train_fname, sep=';')\n",
    "df_test = pd.read_csv(test_fname, sep=';')\n",
    "\n",
    "n_thread = 4"
   ]
  },
  {
   "cell_type": "markdown",
   "metadata": {},
   "source": [
    "# Preprocessing"
   ]
  },
  {
   "cell_type": "code",
   "execution_count": 62,
   "metadata": {
    "collapsed": false
   },
   "outputs": [],
   "source": [
    "# One Hot encode categorical values\n",
    "categorical = ['VOIE_DEPOT', 'COUNTRY', 'SOURCE_BEGIN_MONTH', 'FISRT_APP_COUNTRY', \\\n",
    "               'FISRT_APP_TYPE', 'LANGUAGE_OF_FILLING', 'FISRT_INV_COUNTRY', 'FISRT_INV_TYPE', \\\n",
    "              'SOURCE_CITED_AGE', 'SOURCE_IDX_ORI', 'SOURCE_IDX_RAD']\n",
    "for column in categorical:\n",
    "    df = pd.concat([df, pd.get_dummies(df[column])], axis=1)\n",
    "    df_test = pd.concat([df_test, pd.get_dummies(df_test[column])], axis=1)\n",
    "    \n",
    "df = df.drop(categorical, axis=1)\n",
    "df_test = df_test.drop(categorical, axis=1)"
   ]
  },
  {
   "cell_type": "code",
   "execution_count": 63,
   "metadata": {
    "collapsed": true
   },
   "outputs": [],
   "source": [
    "# FIRST_CLASSE\n",
    "# This column contain too many values to be one hot encoded. Therefore it is just converted to numerical values\n",
    "\n",
    "df.FIRST_CLASSE = df.FIRST_CLASSE.fillna(-1.)\n",
    "df_test.FIRST_CLASSE = df_test.FIRST_CLASSE.fillna(-1.)\n",
    "\n",
    "df.FIRST_CLASSE = df.FIRST_CLASSE.apply(hash)\n",
    "df_test.FIRST_CLASSE = df_test.FIRST_CLASSE.apply(hash)"
   ]
  },
  {
   "cell_type": "code",
   "execution_count": 64,
   "metadata": {
    "collapsed": true
   },
   "outputs": [],
   "source": [
    "# TECHNOLOGIE_SECTOR\n",
    "# In this column we take account of the number of the sector, written in roman number\n",
    "\n",
    "df.TECHNOLOGIE_SECTOR = df.TECHNOLOGIE_SECTOR.fillna(-1)\n",
    "df_test.TECHNOLOGIE_SECTOR = df_test.TECHNOLOGIE_SECTOR.fillna(-1)\n",
    "\n",
    "a = df.TECHNOLOGIE_SECTOR.tolist()\n",
    "\n",
    "for i in range(0,259431):\n",
    "    if(a[i]!=-1):\n",
    "        if(a[i][0] == 'I'):\n",
    "            if(a[i][1] == 'I'):\n",
    "                if(a[i][2] == 'I'):\n",
    "                    a[i] = 3\n",
    "                else:\n",
    "                    a[i] = 2\n",
    "            elif(a[i][1] == 'V'):\n",
    "                a[i] = 4\n",
    "            else:\n",
    "                a[i] = 1\n",
    "        elif(a[i][0] == 'V'):\n",
    "            a[i] = 5\n",
    "        else:\n",
    "            a[i] = -1\n",
    "        \n",
    "df.TECHNOLOGIE_SECTOR = a\n",
    "\n",
    "a = df_test.TECHNOLOGIE_SECTOR.tolist()\n",
    "        \n",
    "for i in range(0,129715):\n",
    "    if(a[i]!=-1):\n",
    "        if(a[i][0] == 'I'):\n",
    "            if(a[i][1] == 'I'):\n",
    "                if(a[i][2] == 'I'):\n",
    "                    a[i] = 3\n",
    "                else:\n",
    "                    a[i] = 2\n",
    "            elif(a[i][1] == 'V'):\n",
    "                a[i] = 4\n",
    "            else:\n",
    "                a[i] = 1\n",
    "        elif(a[i][0] == 'V'):\n",
    "            a[i] = 5\n",
    "        else:\n",
    "            a[i] = -1\n",
    "        \n",
    "df_test.TECHNOLOGIE_SECTOR = a"
   ]
  },
  {
   "cell_type": "code",
   "execution_count": 65,
   "metadata": {
    "collapsed": true
   },
   "outputs": [],
   "source": [
    "# TECHNOLOGIE_FIELD\n",
    "\n",
    "df.TECHNOLOGIE_FIELD = df.TECHNOLOGIE_FIELD.fillna(-1)\n",
    "df_test.TECHNOLOGIE_FIELD = df_test.TECHNOLOGIE_FIELD.fillna(-1)\n",
    "\n",
    "a = df.TECHNOLOGIE_FIELD.tolist()\n",
    "for i in range(0,259431):\n",
    "    b = a[i][0:2]\n",
    "    c = int(b)\n",
    "    a[i] = c\n",
    "df.TECHNOLOGIE_FIELD = a\n",
    "\n",
    "a = df_test.TECHNOLOGIE_FIELD.tolist()\n",
    "for i in range(0,129715):\n",
    "    b = a[i][0:2]\n",
    "    c = int(b)\n",
    "    a[i] = c\n",
    "df_test.TECHNOLOGIE_FIELD = a"
   ]
  },
  {
   "cell_type": "code",
   "execution_count": 66,
   "metadata": {
    "collapsed": true
   },
   "outputs": [],
   "source": [
    "# MAIN_IPC\n",
    "# As for FIRST_CLASSE, this column has too many values to be one hot encoded\n",
    "\n",
    "df.MAIN_IPC = df.MAIN_IPC.fillna(-1.)\n",
    "df_test.MAIN_IPC = df_test.MAIN_IPC.fillna(-1.)\n",
    "\n",
    "df.MAIN_IPC = df.MAIN_IPC.apply(hash)\n",
    "df_test.MAIN_IPC = df_test.MAIN_IPC.apply(hash)"
   ]
  },
  {
   "cell_type": "code",
   "execution_count": 67,
   "metadata": {
    "collapsed": true
   },
   "outputs": [],
   "source": [
    "# PRIORITY_MONTH\n",
    "# We have 4 columns with two numbers: one for the month and the other for the year.\n",
    "# We merge these number in order to take advantage of the order of the time\n",
    "\n",
    "df.PRIORITY_MONTH = df.PRIORITY_MONTH.fillna(-1)\n",
    "df_test.PRIORITY_MONTH = df_test.PRIORITY_MONTH.fillna(-1)\n",
    "\n",
    "a = df.PRIORITY_MONTH.tolist()\n",
    "for i in range(0,259431):\n",
    "    if(a[i]!=-1):\n",
    "        b = a[i][3:7]\n",
    "        c = a[i][0:2]\n",
    "        d = b + c\n",
    "        a[i] = int(d)\n",
    "df.PRIORITY_MONTH = a\n",
    "\n",
    "a = df_test.PRIORITY_MONTH.tolist()\n",
    "for i in range(0,129715):\n",
    "    if(a[i]!=-1):\n",
    "        b = a[i][3:7]\n",
    "        c = a[i][0:2]\n",
    "        d = b + c\n",
    "        a[i] = int(d)\n",
    "df_test.PRIORITY_MONTH = a"
   ]
  },
  {
   "cell_type": "code",
   "execution_count": 68,
   "metadata": {
    "collapsed": true
   },
   "outputs": [],
   "source": [
    "# FILING_MONTH\n",
    "\n",
    "df.FILING_MONTH = df.FILING_MONTH.fillna(-1)\n",
    "df_test.FILING_MONTH = df_test.FILING_MONTH.fillna(-1)\n",
    "\n",
    "a = df.FILING_MONTH.tolist()\n",
    "for i in range(0,259431):\n",
    "    if(a[i]!=-1):\n",
    "        b = a[i][3:7]\n",
    "        c = a[i][0:2]\n",
    "        d = b + c\n",
    "        a[i] = int(d)\n",
    "df.FILING_MONTH = a\n",
    "\n",
    "a = df_test.FILING_MONTH.tolist()\n",
    "for i in range(0,129715):\n",
    "    if(a[i]!=-1):\n",
    "        b = a[i][3:7]\n",
    "        c = a[i][0:2]\n",
    "        d = b + c\n",
    "        a[i] = int(d)\n",
    "df_test.FILING_MONTH = a"
   ]
  },
  {
   "cell_type": "code",
   "execution_count": 69,
   "metadata": {
    "collapsed": true
   },
   "outputs": [],
   "source": [
    "# PUBLICATION_MONTH\n",
    "\n",
    "df.PUBLICATION_MONTH = df.PUBLICATION_MONTH.fillna(-1)\n",
    "df_test.PUBLICATION_MONTH = df_test.PUBLICATION_MONTH.fillna(-1)\n",
    "\n",
    "a = df.PUBLICATION_MONTH.tolist()\n",
    "for i in range(0,259431):\n",
    "    if(a[i]!=-1):\n",
    "        b = a[i][3:7]\n",
    "        c = a[i][0:2]\n",
    "        d = b + c\n",
    "        a[i] = int(d)\n",
    "df.PUBLICATION_MONTH = a\n",
    "\n",
    "a = df_test.PUBLICATION_MONTH.tolist()\n",
    "for i in range(0,129715):\n",
    "    if(a[i]!=-1):\n",
    "        b = a[i][3:7]\n",
    "        c = a[i][0:2]\n",
    "        d = b + c\n",
    "        a[i] = int(d)\n",
    "df_test.PUBLICATION_MONTH = a"
   ]
  },
  {
   "cell_type": "code",
   "execution_count": 70,
   "metadata": {
    "collapsed": true
   },
   "outputs": [],
   "source": [
    "# BEGIN_MONTH\n",
    "\n",
    "df.BEGIN_MONTH = df.BEGIN_MONTH.fillna(-1)\n",
    "df_test.BEGIN_MONTH = df_test.BEGIN_MONTH.fillna(-1)\n",
    "\n",
    "a = df.BEGIN_MONTH.tolist()\n",
    "for i in range(0,259431):\n",
    "    if(a[i]!=-1):\n",
    "        b = a[i][3:7]\n",
    "        c = a[i][0:2]\n",
    "        d = b + c\n",
    "        a[i] = int(d)\n",
    "df.BEGIN_MONTH = a\n",
    "\n",
    "a = df_test.BEGIN_MONTH.tolist()\n",
    "for i in range(0,129715):\n",
    "    if(a[i]!=-1):\n",
    "        b = a[i][3:7]\n",
    "        c = a[i][0:2]\n",
    "        d = b + c\n",
    "        a[i] = int(d)\n",
    "df_test.BEGIN_MONTH = a"
   ]
  },
  {
   "cell_type": "markdown",
   "metadata": {},
   "source": [
    "# Train"
   ]
  },
  {
   "cell_type": "markdown",
   "metadata": {},
   "source": [
    "## Setting Parameters"
   ]
  },
  {
   "cell_type": "code",
   "execution_count": 71,
   "metadata": {
    "collapsed": true
   },
   "outputs": [],
   "source": [
    "# Only use the columns present in both train and test dataframe\n",
    "a = list(df.columns.values)\n",
    "b = list(df_test.columns.values)\n",
    "c = []\n",
    "\n",
    "for x in a:\n",
    "    if (x in b):\n",
    "        c.append(x)\n",
    "for x in b:\n",
    "    if (x in a):\n",
    "        if (x in c):\n",
    "            k=0\n",
    "        else:\n",
    "            c.append(x)"
   ]
  },
  {
   "cell_type": "code",
   "execution_count": 72,
   "metadata": {
    "collapsed": false
   },
   "outputs": [],
   "source": [
    "feature_names = c\n",
    "X_train = df[feature_names].values\n",
    "X_test = df_test[feature_names].values\n",
    "y_train = df.VARIABLE_CIBLE == 'GRANTED'"
   ]
  },
  {
   "cell_type": "markdown",
   "metadata": {},
   "source": [
    "## XGBoost"
   ]
  },
  {
   "cell_type": "code",
   "execution_count": 73,
   "metadata": {
    "collapsed": true
   },
   "outputs": [],
   "source": [
    "dtrain = xgb.DMatrix(X_train, label=y_train)"
   ]
  },
  {
   "cell_type": "code",
   "execution_count": 81,
   "metadata": {
    "collapsed": false
   },
   "outputs": [],
   "source": [
    "# Paramêtres du classifieur\n",
    "param = {'max_depth':8,\n",
    "         'eta':0.07,\n",
    "         'gamma ':0,\n",
    "         'min_child_weight':1,\n",
    "         'max_delta_step':0,\n",
    "         'subsample':1,\n",
    "         'colsample_bytree':0.4,\n",
    "         'colsample_bylevel':1,\n",
    "         'silent':1,\n",
    "         'objective':'binary:logistic' }\n",
    "param['nthread'] = n_thread\n",
    "param['eval_metric'] = 'auc'\n",
    "num_round = 350"
   ]
  },
  {
   "cell_type": "code",
   "execution_count": null,
   "metadata": {
    "collapsed": false
   },
   "outputs": [],
   "source": [
    "# Train model\n",
    "bst = xgb.train(param, dtrain, num_round)\n",
    "y_pred_train_xgb = bst.predict(dtrain)"
   ]
  },
  {
   "cell_type": "code",
   "execution_count": null,
   "metadata": {
    "collapsed": true
   },
   "outputs": [],
   "source": [
    "# Save predictions\n",
    "X_test = df_test[feature_names].values\n",
    "dtest = xgb.DMatrix(X_test)\n",
    "y_pred_xgb = bst.predict(dtest)\n",
    "np.savetxt('y_pred.txt', y_pred_xgb, fmt='%s')"
   ]
  }
 ],
 "metadata": {
  "kernelspec": {
   "display_name": "Python 3",
   "language": "python",
   "name": "python3"
  },
  "language_info": {
   "codemirror_mode": {
    "name": "ipython",
    "version": 3
   },
   "file_extension": ".py",
   "mimetype": "text/x-python",
   "name": "python",
   "nbconvert_exporter": "python",
   "pygments_lexer": "ipython3",
   "version": "3.5.2"
  }
 },
 "nbformat": 4,
 "nbformat_minor": 2
}
